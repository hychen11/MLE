{
 "cells": [
  {
   "cell_type": "markdown",
   "metadata": {},
   "source": [
    "![](https://pic3.zhimg.com/v2-450ef8e9de3dff10486cffb335e6f12e_1440w.jpg)"
   ]
  },
  {
   "cell_type": "code",
   "execution_count": null,
   "metadata": {},
   "outputs": [
    {
     "name": "stderr",
     "output_type": "stream",
     "text": [
      "/Users/chenhaoyang/miniconda3/envs/pytorch/lib/python3.10/site-packages/tqdm/auto.py:22: TqdmWarning: IProgress not found. Please update jupyter and ipywidgets. See https://ipywidgets.readthedocs.io/en/stable/user_install.html\n",
      "  from .autonotebook import tqdm as notebook_tqdm\n"
     ]
    }
   ],
   "source": [
    "import torch\n",
    "import torch.nn as nn\n",
    "import torch.nn.functional as F\n",
    "\n",
    "class Linear(nn.Module):\n",
    "    def __init__(self,in_features,out_features):\n",
    "        super(Linear,self).__init__()\n",
    "        self.fc=nn.Linear(in_features,out_features)       \n",
    "    \n",
    "    def forward(self,x):\n",
    "        return self.fc(x)\n",
    "    \n",
    "\n",
    "class MoELayer(nn.Module):\n",
    "    def __init__(self,num_experts,in_features,out_features):\n",
    "        super(MoELayer,self).__init__()\n",
    "        self.num_experts=num_experts\n",
    "        self.experts=nn.ModuleList([Linear(in_features,out_features) for _ in range(num_experts)]) \n",
    "        self.gate=nn.Linear(in_features,num_experts)\n",
    "    \n",
    "    def forward(self,x):\n",
    "        gate_score=F.softmax(self.gate(x), dim=-1)\n",
    "        expert_outputs=torch.stack([expert(x) for expert in self.experts],dim=1)\n",
    "        output=torch.bmm(gate_score.unsqueeze(1),expert_outputs).sequeeze(1)\n",
    "        return output\n",
    "        \n",
    "input_size = 5\n",
    "output_size = 3\n",
    "num_experts = 4\n",
    "batch_size = 10\n",
    "\n",
    "model = MoELayer(num_experts, input_size, output_size)\n",
    "\n",
    "demo = torch.randn(batch_size, input_size)\n",
    "\n",
    "output = model(demo)\n",
    "\n",
    "print(output.shape)  # 输出: torch.Size([10, 3])\n",
    "        "
   ]
  }
 ],
 "metadata": {
  "kernelspec": {
   "display_name": "pytorch",
   "language": "python",
   "name": "python3"
  },
  "language_info": {
   "codemirror_mode": {
    "name": "ipython",
    "version": 3
   },
   "file_extension": ".py",
   "mimetype": "text/x-python",
   "name": "python",
   "nbconvert_exporter": "python",
   "pygments_lexer": "ipython3",
   "version": "3.10.9"
  }
 },
 "nbformat": 4,
 "nbformat_minor": 2
}
